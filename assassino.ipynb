{
 "cells": [
  {
   "cell_type": "code",
   "execution_count": 1,
   "id": "6ebe5a41",
   "metadata": {},
   "outputs": [
    {
     "name": "stdout",
     "output_type": "stream",
     "text": [
      "Responda todas as perguntas apenas com sim ou não.\n",
      "Mora perto da vítima?  sim\n",
      "Já trabalhou com a vítima?  sim\n",
      "Telefonou para a vítima?  sim\n",
      "Esteve no local do crime?  sim\n",
      "Devia para a vítima?  sim\n"
     ]
    }
   ],
   "source": [
    "#quem é o assassino?\n",
    "\n",
    "#cinco_pontos = 'assassino'\n",
    "#tres_quatro_pontos = 'cumplices'\n",
    "#dois_pontos = 'suspeitos'\n",
    "#um_ponto = 'liberado'\n",
    "\n",
    "print('Responda todas as perguntas apenas com sim ou não.')\n",
    "\n",
    "pergunta1 = input('Mora perto da vítima?  ')\n",
    "pergunta2 = input('Já trabalhou com a vítima?  ')\n",
    "pergunta3 = input('Telefonou para a vítima?  ')\n",
    "pergunta4 = input('Esteve no local do crime?  ')\n",
    "pergunta5 = input('Devia para a vítima?  ')"
   ]
  },
  {
   "cell_type": "code",
   "execution_count": 2,
   "id": "243014e0",
   "metadata": {},
   "outputs": [
    {
     "ename": "SyntaxError",
     "evalue": "invalid syntax (2082633189.py, line 12)",
     "output_type": "error",
     "traceback": [
      "\u001b[1;36m  Cell \u001b[1;32mIn [2], line 12\u001b[1;36m\u001b[0m\n\u001b[1;33m    perguntas = pergunta1 input('Mora perto da vítima?  ')\u001b[0m\n\u001b[1;37m                          ^\u001b[0m\n\u001b[1;31mSyntaxError\u001b[0m\u001b[1;31m:\u001b[0m invalid syntax\n"
     ]
    }
   ],
   "source": [
    "#quem é o assassino?\n",
    "\n",
    "#sim vale 1 ponto\n",
    "#cinco_pontos = 'assassino'\n",
    "#tres_quatro_pontos = 'cumplices'\n",
    "#dois_pontos = 'suspeitos'\n",
    "#um_ponto = 'liberado'\n",
    "\n",
    "print('Responda todas as perguntas apenas com sim ou não.')\n",
    "\n",
    "pergunta1 = input('Mora perto da vítima?  ')\n",
    "pergunta2 = input('Já trabalhou com a vítima?  ')\n",
    "pergunta3 = input('Telefonou para a vítima?  ')\n",
    "pergunta4 = input('Esteve no local do crime?  ')\n",
    "pergunta5 = input('Devia para a vítima?  ')\n"
   ]
  },
  {
   "cell_type": "code",
   "execution_count": 1,
   "id": "4c08d481",
   "metadata": {},
   "outputs": [
    {
     "name": "stdout",
     "output_type": "stream",
     "text": [
      "Responda todas as perguntas apenas com sim ou não.\n",
      "Mora perto da vítima?  sim\n",
      "Já trabalhou com a vítima?  sim\n",
      "Telefonou para a vítima?  sim\n",
      "Esteve no local do crime?  sim\n",
      "Devia para a vítima?  sim\n"
     ]
    },
    {
     "ename": "NameError",
     "evalue": "name 'total_pontos' is not defined",
     "output_type": "error",
     "traceback": [
      "\u001b[1;31m---------------------------------------------------------------------------\u001b[0m",
      "\u001b[1;31mNameError\u001b[0m                                 Traceback (most recent call last)",
      "Cell \u001b[1;32mIn [1], line 19\u001b[0m\n\u001b[0;32m     15\u001b[0m pergunta5 \u001b[38;5;241m=\u001b[39m \u001b[38;5;28minput\u001b[39m(\u001b[38;5;124m'\u001b[39m\u001b[38;5;124mDevia para a vítima?  \u001b[39m\u001b[38;5;124m'\u001b[39m)\n\u001b[0;32m     18\u001b[0m \u001b[38;5;28;01mif\u001b[39;00m pergunta1 \u001b[38;5;241m==\u001b[39m \u001b[38;5;124m'\u001b[39m\u001b[38;5;124msim\u001b[39m\u001b[38;5;124m'\u001b[39m:\n\u001b[1;32m---> 19\u001b[0m     total_pontos \u001b[38;5;241m=\u001b[39m \u001b[43mtotal_pontos\u001b[49m \u001b[38;5;241m+\u001b[39m \u001b[38;5;241m1\u001b[39m\n\u001b[0;32m     20\u001b[0m \u001b[38;5;28;01mif\u001b[39;00m pergunta2 \u001b[38;5;241m==\u001b[39m \u001b[38;5;124m'\u001b[39m\u001b[38;5;124msim\u001b[39m\u001b[38;5;124m'\u001b[39m:\n\u001b[0;32m     21\u001b[0m     total_pontos \u001b[38;5;241m=\u001b[39m total_pontos \u001b[38;5;241m+\u001b[39m \u001b[38;5;241m1\u001b[39m\n",
      "\u001b[1;31mNameError\u001b[0m: name 'total_pontos' is not defined"
     ]
    }
   ],
   "source": [
    "#quem é o assassino?\n",
    "\n",
    "#sim vale 1 ponto\n",
    "#cinco_pontos = 'assassino'\n",
    "#tres_quatro_pontos = 'cumplices'\n",
    "#dois_pontos = 'suspeitos'\n",
    "#um_ponto = 'liberado'\n",
    "\n",
    "print('Responda todas as perguntas apenas com sim ou não.')\n",
    "\n",
    "pergunta1 = input('Mora perto da vítima?  ')\n",
    "pergunta2 = input('Já trabalhou com a vítima?  ')\n",
    "pergunta3 = input('Telefonou para a vítima?  ')\n",
    "pergunta4 = input('Esteve no local do crime?  ')\n",
    "pergunta5 = input('Devia para a vítima?  ')\n",
    "\n",
    "\n",
    "if pergunta1 == 'sim':\n",
    "    total_pontos = total_pontos + 1\n",
    "if pergunta2 == 'sim':\n",
    "    total_pontos = total_pontos + 1\n",
    "if pergunta3 == 'sim':\n",
    "    total_pontos = total_pontos + 1\n",
    "if pergunta4 == 'sim':\n",
    "    total_pontos = total_pontos + 1\n",
    "if pergunta5 == 'sim':\n",
    "    total_pontos = total_pontos + 1\n",
    "    "
   ]
  },
  {
   "cell_type": "code",
   "execution_count": 2,
   "id": "ea67f7d4",
   "metadata": {},
   "outputs": [
    {
     "name": "stdout",
     "output_type": "stream",
     "text": [
      "Nome: sim\n",
      "Mora perto da vítima? sim\n"
     ]
    },
    {
     "ename": "ValueError",
     "evalue": "invalid literal for int() with base 10: 'sim'",
     "output_type": "error",
     "traceback": [
      "\u001b[1;31m---------------------------------------------------------------------------\u001b[0m",
      "\u001b[1;31mValueError\u001b[0m                                Traceback (most recent call last)",
      "Cell \u001b[1;32mIn [2], line 6\u001b[0m\n\u001b[0;32m      3\u001b[0m respostas \u001b[38;5;241m=\u001b[39m []\n\u001b[0;32m      5\u001b[0m \u001b[38;5;66;03m#Input do placar\u001b[39;00m\n\u001b[1;32m----> 6\u001b[0m qA \u001b[38;5;241m=\u001b[39m \u001b[38;5;28;43mint\u001b[39;49m\u001b[43m(\u001b[49m\u001b[38;5;28;43minput\u001b[39;49m\u001b[43m(\u001b[49m\u001b[38;5;124;43m\"\u001b[39;49m\u001b[38;5;124;43mMora perto da vítima? \u001b[39;49m\u001b[38;5;124;43m\"\u001b[39;49m\u001b[43m)\u001b[49m\u001b[43m)\u001b[49m\n\u001b[0;32m      7\u001b[0m respostas\u001b[38;5;241m.\u001b[39mappend(qA)\n\u001b[0;32m      8\u001b[0m qB \u001b[38;5;241m=\u001b[39m \u001b[38;5;28mint\u001b[39m(\u001b[38;5;28minput\u001b[39m(\u001b[38;5;124m\"\u001b[39m\u001b[38;5;124mJá trabalhou com a vítima? \u001b[39m\u001b[38;5;124m\"\u001b[39m))\n",
      "\u001b[1;31mValueError\u001b[0m: invalid literal for int() with base 10: 'sim'"
     ]
    }
   ],
   "source": [
    "#Setup inicial\n",
    "nome = str(input(\"Nome: \"))\n",
    "respostas = []\n",
    "\n",
    "#Input do placar\n",
    "qA = int(input(\"Mora perto da vítima? \"))\n",
    "respostas.append(qA)\n",
    "qB = int(input(\"Já trabalhou com a vítima? \"))\n",
    "respostas.append(qB)\n",
    "qC = int(input(\"Telefonou para a vítima? \"))\n",
    "respostas.append(qC)\n",
    "qD = int(input(\"Esteve no local do crime? \"))\n",
    "respostas.append(qD)\n",
    "qE = int(input(\"Devia para a vítima? \"))\n",
    "respostas.append(qE)\n",
    "\n",
    "pontos = sum(respostas)\n",
    "\n",
    "#Veridito\n",
    "if pontos == 5:\n",
    "    print (nome, pontos, \"Culpado\")\n",
    "elif pontos > 2 and pontos < 5:\n",
    "    print (nome, pontos, \"Cúmplice\")\n",
    "elif pontos == 2:\n",
    "    print (nome, pontos, \"Suspeito\")\n",
    "else:\n",
    "    print (nome, pontos, \"Inocente\")"
   ]
  },
  {
   "cell_type": "code",
   "execution_count": null,
   "id": "4a55418e",
   "metadata": {},
   "outputs": [],
   "source": []
  },
  {
   "cell_type": "code",
   "execution_count": 3,
   "id": "eceafae4",
   "metadata": {},
   "outputs": [
    {
     "name": "stdout",
     "output_type": "stream",
     "text": [
      "Nome: xyz\n",
      "Mora perto da vítima? sim\n"
     ]
    },
    {
     "ename": "ValueError",
     "evalue": "invalid literal for int() with base 10: 'sim'",
     "output_type": "error",
     "traceback": [
      "\u001b[1;31m---------------------------------------------------------------------------\u001b[0m",
      "\u001b[1;31mValueError\u001b[0m                                Traceback (most recent call last)",
      "Cell \u001b[1;32mIn [3], line 6\u001b[0m\n\u001b[0;32m      3\u001b[0m respostas \u001b[38;5;241m=\u001b[39m []\n\u001b[0;32m      5\u001b[0m \u001b[38;5;66;03m#Input do placar\u001b[39;00m\n\u001b[1;32m----> 6\u001b[0m qA \u001b[38;5;241m=\u001b[39m \u001b[38;5;28;43mint\u001b[39;49m\u001b[43m(\u001b[49m\u001b[38;5;28;43minput\u001b[39;49m\u001b[43m(\u001b[49m\u001b[38;5;124;43m\"\u001b[39;49m\u001b[38;5;124;43mMora perto da vítima? \u001b[39;49m\u001b[38;5;124;43m\"\u001b[39;49m\u001b[43m)\u001b[49m\u001b[43m)\u001b[49m\n\u001b[0;32m      7\u001b[0m respostas\u001b[38;5;241m.\u001b[39mappend(qA)\n\u001b[0;32m      8\u001b[0m qB \u001b[38;5;241m=\u001b[39m \u001b[38;5;28mint\u001b[39m(\u001b[38;5;28minput\u001b[39m(\u001b[38;5;124m\"\u001b[39m\u001b[38;5;124mJá trabalhou com a vítima? \u001b[39m\u001b[38;5;124m\"\u001b[39m))\n",
      "\u001b[1;31mValueError\u001b[0m: invalid literal for int() with base 10: 'sim'"
     ]
    }
   ],
   "source": [
    "#Setup inicial\n",
    "nome = str(input(\"Nome: \"))\n",
    "respostas = []\n",
    "\n",
    "#Input do placar\n",
    "qA = int(input(\"Mora perto da vítima? \"))\n",
    "respostas.append(qA)\n",
    "qB = int(input(\"Já trabalhou com a vítima? \"))\n",
    "respostas.append(qB)\n",
    "qC = int(input(\"Telefonou para a vítima? \"))\n",
    "respostas.append(qC)\n",
    "qD = int(input(\"Esteve no local do crime? \"))\n",
    "respostas.append(qD)\n",
    "qE = int(input(\"Devia para a vítima? \"))\n",
    "respostas.append(qE)\n",
    "\n",
    "pontos = sum(respostas)\n",
    "\n",
    "#Veridito\n",
    "if pontos == 5:\n",
    "    print (nome, pontos, \"Culpado\")\n",
    "elif pontos > 2 and pontos < 5:\n",
    "    print (nome, pontos, \"Cúmplice\")\n",
    "elif pontos == 2:\n",
    "    print (nome, pontos, \"Suspeito\")\n",
    "else:\n",
    "    print (nome, pontos, \"Inocente\")"
   ]
  },
  {
   "cell_type": "code",
   "execution_count": 4,
   "id": "acc9acbb",
   "metadata": {},
   "outputs": [
    {
     "name": "stdout",
     "output_type": "stream",
     "text": [
      "Nome: xyz\n",
      "Mora perto da vítima? 1\n",
      "Já trabalhou com a vítima? 1\n",
      "Telefonou para a vítima? 1\n",
      "Esteve no local do crime? 1\n",
      "Devia para a vítima? 1\n",
      "xyz 5 Culpado\n"
     ]
    }
   ],
   "source": [
    "#Setup inicial\n",
    "nome = str(input(\"Nome: \"))\n",
    "respostas = []\n",
    "\n",
    "#Input do placar\n",
    "qA = int(input(\"Mora perto da vítima? \"))\n",
    "respostas.append(qA)\n",
    "qB = int(input(\"Já trabalhou com a vítima? \"))\n",
    "respostas.append(qB)\n",
    "qC = int(input(\"Telefonou para a vítima? \"))\n",
    "respostas.append(qC)\n",
    "qD = int(input(\"Esteve no local do crime? \"))\n",
    "respostas.append(qD)\n",
    "qE = int(input(\"Devia para a vítima? \"))\n",
    "respostas.append(qE)\n",
    "\n",
    "pontos = sum(respostas)\n",
    "\n",
    "#Veridito\n",
    "if pontos == 5:\n",
    "    print (nome, pontos, \"Culpado\")\n",
    "elif pontos > 2 and pontos < 5:\n",
    "    print (nome, pontos, \"Cúmplice\")\n",
    "elif pontos == 2:\n",
    "    print (nome, pontos, \"Suspeito\")\n",
    "else:\n",
    "    print (nome, pontos, \"Inocente\")"
   ]
  },
  {
   "cell_type": "code",
   "execution_count": null,
   "id": "ce5d14ee",
   "metadata": {},
   "outputs": [],
   "source": []
  }
 ],
 "metadata": {
  "kernelspec": {
   "display_name": "Python 3 (ipykernel)",
   "language": "python",
   "name": "python3"
  },
  "language_info": {
   "codemirror_mode": {
    "name": "ipython",
    "version": 3
   },
   "file_extension": ".py",
   "mimetype": "text/x-python",
   "name": "python",
   "nbconvert_exporter": "python",
   "pygments_lexer": "ipython3",
   "version": "3.10.5"
  }
 },
 "nbformat": 4,
 "nbformat_minor": 5
}
